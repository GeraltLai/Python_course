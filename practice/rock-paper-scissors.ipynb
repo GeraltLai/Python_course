{
 "cells": [
  {
   "cell_type": "code",
   "execution_count": 1,
   "metadata": {},
   "outputs": [
    {
     "name": "stdout",
     "output_type": "stream",
     "text": [
      "是否繼續猜拳?(Y/N)Y\n",
      "請出拳 (1) 剪刀 (2) 石頭 (3) 布：1\n",
      "電腦出了石頭!\n",
      " 輸了~再接再厲吧!\n",
      "是否繼續猜拳?(Y/N)N\n"
     ]
    }
   ],
   "source": [
    "import random\n",
    "computer_hand = random.randint(1,3)\n",
    "while True:\n",
    "    answer = input(\"是否繼續猜拳?(Y/N)\")\n",
    "    if answer == \"N\":\n",
    "        break\n",
    "    elif answer != \"Y\":\n",
    "        continue\n",
    "    while True:\n",
    "        user_hand = int(input(\"請出拳 (1) 剪刀 (2) 石頭 (3) 布：\"))\n",
    "        if user_hand in [1,2,3]:\n",
    "            break\n",
    "    if computer_hand == 1:\n",
    "        print(\"電腦出了剪刀!\")\n",
    "    elif computer_hand == 2:\n",
    "        print(\"電腦出了石頭!\")\n",
    "    else:\n",
    "        print(\"電腦出了布!\")\n",
    "\n",
    "    if user_hand == computer_hand:\n",
    "                  print(\" 和電腦打成平手!\")\n",
    "    else:\n",
    "            if user_hand - computer_hand == 1 or user_hand - computer_hand == -2:\n",
    "                print(\" 贏了電腦! 太厲害了!\")\n",
    "            else:\n",
    "                print(\" 輸了~再接再厲吧!\")"
   ]
  },
  {
   "cell_type": "code",
   "execution_count": null,
   "metadata": {},
   "outputs": [],
   "source": []
  }
 ],
 "metadata": {
  "kernelspec": {
   "display_name": "Python 3 (ipykernel)",
   "language": "python",
   "name": "python3"
  },
  "language_info": {
   "codemirror_mode": {
    "name": "ipython",
    "version": 3
   },
   "file_extension": ".py",
   "mimetype": "text/x-python",
   "name": "python",
   "nbconvert_exporter": "python",
   "pygments_lexer": "ipython3",
   "version": "3.11.5"
  }
 },
 "nbformat": 4,
 "nbformat_minor": 4
}
